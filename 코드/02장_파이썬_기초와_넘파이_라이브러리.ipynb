{
  "nbformat": 4,
  "nbformat_minor": 0,
  "metadata": {
    "colab": {
      "provenance": []
    },
    "kernelspec": {
      "name": "python3",
      "display_name": "Python 3"
    },
    "language_info": {
      "name": "python"
    }
  },
  "cells": [
    {
      "cell_type": "markdown",
      "source": [
        "## Chapter 2. 파이썬 기초와 넘파이 라이브러리"
      ],
      "metadata": {
        "id": "AaDgLbfKDU2c"
      }
    },
    {
      "cell_type": "markdown",
      "source": [
        "### 2.1. 변수와 자료형"
      ],
      "metadata": {
        "id": "dZbY8h0YDXSl"
      }
    },
    {
      "cell_type": "markdown",
      "source": [
        "#### 2.1.1. 변수"
      ],
      "metadata": {
        "id": "cGlJ5P23DXa1"
      }
    },
    {
      "cell_type": "markdown",
      "source": [
        "#### 2.1.2. 정수"
      ],
      "metadata": {
        "id": "dc4ZavyCDeO8"
      }
    },
    {
      "cell_type": "markdown",
      "source": [
        "#### 2.1.3. 실수"
      ],
      "metadata": {
        "id": "82Tvr4wBDhAK"
      }
    },
    {
      "cell_type": "code",
      "source": [
        "# 코드 2-1. 실수의 출력\n",
        "13.01 # 부동 소수점으로 출력하는 것은 아니다."
      ],
      "metadata": {
        "colab": {
          "base_uri": "https://localhost:8080/"
        },
        "id": "wjElrbQIDTIR",
        "outputId": "906cf056-893c-4f95-df27-f393e76cadf7"
      },
      "execution_count": 1,
      "outputs": [
        {
          "output_type": "execute_result",
          "data": {
            "text/plain": [
              "13.01"
            ]
          },
          "metadata": {},
          "execution_count": 1
        }
      ]
    },
    {
      "cell_type": "markdown",
      "source": [
        "#### 2.1.4. 문자열"
      ],
      "metadata": {
        "id": "9MQTpE2VJ-z2"
      }
    },
    {
      "cell_type": "code",
      "source": [
        "# 코드 2-2. 문자열의 연결\n",
        "'김' + '판다'"
      ],
      "metadata": {
        "colab": {
          "base_uri": "https://localhost:8080/",
          "height": 35
        },
        "id": "KTLudRKxDTVj",
        "outputId": "5d3e540e-474f-4946-c440-1f0fad23df40"
      },
      "execution_count": 2,
      "outputs": [
        {
          "output_type": "execute_result",
          "data": {
            "text/plain": [
              "'김판다'"
            ],
            "application/vnd.google.colaboratory.intrinsic+json": {
              "type": "string"
            }
          },
          "metadata": {},
          "execution_count": 2
        }
      ]
    },
    {
      "cell_type": "code",
      "source": [
        "# 코드 2-3. 문자열의 인덱싱\n",
        "a = '김판다'\n",
        "a[0] # 첫 번째 문자열을 반환한다"
      ],
      "metadata": {
        "colab": {
          "base_uri": "https://localhost:8080/",
          "height": 35
        },
        "id": "OqtFnpmUDTjm",
        "outputId": "0f46b5ab-b7c7-4542-d9fa-76f7a162e590"
      },
      "execution_count": 3,
      "outputs": [
        {
          "output_type": "execute_result",
          "data": {
            "text/plain": [
              "'김'"
            ],
            "application/vnd.google.colaboratory.intrinsic+json": {
              "type": "string"
            }
          },
          "metadata": {},
          "execution_count": 3
        }
      ]
    },
    {
      "cell_type": "code",
      "source": [
        "# 코드 2-4. len 함수로 문자열의 길이 반환\n",
        "len(a) # 변수 a인 문자열 '김판다'의 길이를 반환한다"
      ],
      "metadata": {
        "colab": {
          "base_uri": "https://localhost:8080/"
        },
        "id": "g8FB4o1qKUW7",
        "outputId": "db5d7285-db77-410d-a21c-63c517351c3d"
      },
      "execution_count": 4,
      "outputs": [
        {
          "output_type": "execute_result",
          "data": {
            "text/plain": [
              "3"
            ]
          },
          "metadata": {},
          "execution_count": 4
        }
      ]
    },
    {
      "cell_type": "code",
      "source": [
        "# 코드 2-5. 문자열 포매팅(f-string 기법)\n",
        "a = '김판다'\n",
        "b = '판다스'\n",
        "f'{a} 강사와 함께 {b}를 배웁시다'"
      ],
      "metadata": {
        "colab": {
          "base_uri": "https://localhost:8080/",
          "height": 35
        },
        "id": "uac_Kv_tKSkG",
        "outputId": "1f5bea2a-464f-4bc7-b5bd-e1738510389d"
      },
      "execution_count": 5,
      "outputs": [
        {
          "output_type": "execute_result",
          "data": {
            "text/plain": [
              "'김판다 강사와 함께 판다스를 배웁시다'"
            ],
            "application/vnd.google.colaboratory.intrinsic+json": {
              "type": "string"
            }
          },
          "metadata": {},
          "execution_count": 5
        }
      ]
    },
    {
      "cell_type": "code",
      "source": [
        "# 코드 2-6. 문자열 포매팅(format 함수)\n",
        "'{} 강사와 함께 {}를 배웁시다'.format(a, b)"
      ],
      "metadata": {
        "colab": {
          "base_uri": "https://localhost:8080/",
          "height": 35
        },
        "id": "Q1dKaKVjKxfb",
        "outputId": "c61779fc-cba7-4eb7-dc43-83f9ff43df9a"
      },
      "execution_count": 6,
      "outputs": [
        {
          "output_type": "execute_result",
          "data": {
            "text/plain": [
              "'김판다 강사와 함께 판다스를 배웁시다'"
            ],
            "application/vnd.google.colaboratory.intrinsic+json": {
              "type": "string"
            }
          },
          "metadata": {},
          "execution_count": 6
        }
      ]
    },
    {
      "cell_type": "code",
      "source": [
        "# 코드 2-7. 문자열 포매팅 대신 문자열 연결을 사용\n",
        "a + ' 강사와 함께 ' + b + '를 배웁시다'"
      ],
      "metadata": {
        "colab": {
          "base_uri": "https://localhost:8080/",
          "height": 35
        },
        "id": "1qiCxgjAQjC4",
        "outputId": "bb74754f-1c1d-4f04-8723-50c74bf62bac"
      },
      "execution_count": 7,
      "outputs": [
        {
          "output_type": "execute_result",
          "data": {
            "text/plain": [
              "'김판다 강사와 함께 판다스를 배웁시다'"
            ],
            "application/vnd.google.colaboratory.intrinsic+json": {
              "type": "string"
            }
          },
          "metadata": {},
          "execution_count": 7
        }
      ]
    },
    {
      "cell_type": "markdown",
      "source": [
        "#### 2.1.5. 불"
      ],
      "metadata": {
        "id": "x9y3Ir57T5RT"
      }
    },
    {
      "cell_type": "code",
      "source": [
        "# 코드 2-8. 불(bool) 자료형의 산술 연산\n",
        "True + True + False"
      ],
      "metadata": {
        "colab": {
          "base_uri": "https://localhost:8080/"
        },
        "id": "kYbhgLJUT5f2",
        "outputId": "3b609aa6-e69e-437b-8b28-19c6fc199037"
      },
      "execution_count": 8,
      "outputs": [
        {
          "output_type": "execute_result",
          "data": {
            "text/plain": [
              "2"
            ]
          },
          "metadata": {},
          "execution_count": 8
        }
      ]
    },
    {
      "cell_type": "code",
      "source": [
        "# 코드 2-9. 불(bool) 자료형의 논리 연산\n",
        "True & True & False # 모두 True인 것이 아니므로 False를 반환한다."
      ],
      "metadata": {
        "colab": {
          "base_uri": "https://localhost:8080/"
        },
        "id": "Wl3X6oe9VIkC",
        "outputId": "8579b4f8-6240-4ea2-832f-f46a77d96ef1"
      },
      "execution_count": 9,
      "outputs": [
        {
          "output_type": "execute_result",
          "data": {
            "text/plain": [
              "False"
            ]
          },
          "metadata": {},
          "execution_count": 9
        }
      ]
    },
    {
      "cell_type": "markdown",
      "source": [
        "#### 2.1.6. 리스트"
      ],
      "metadata": {
        "id": "XxGjuQfCczHA"
      }
    },
    {
      "cell_type": "code",
      "source": [
        "# 코드 2-10. 리스트의 생성\n",
        "[1, 2, 3]"
      ],
      "metadata": {
        "colab": {
          "base_uri": "https://localhost:8080/"
        },
        "id": "XamSa2uYcwMe",
        "outputId": "dc70470b-64b3-44b8-851f-d654f6b9840c"
      },
      "execution_count": 10,
      "outputs": [
        {
          "output_type": "execute_result",
          "data": {
            "text/plain": [
              "[1, 2, 3]"
            ]
          },
          "metadata": {},
          "execution_count": 10
        }
      ]
    },
    {
      "cell_type": "code",
      "source": [
        "# 코드 2-11. type 함수로 자료형 확인\n",
        "type([1, 2, 3])"
      ],
      "metadata": {
        "colab": {
          "base_uri": "https://localhost:8080/"
        },
        "id": "qoUdieL2c6B6",
        "outputId": "fe958dde-68db-40e9-fcec-72e6d0d0c8a6"
      },
      "execution_count": 11,
      "outputs": [
        {
          "output_type": "execute_result",
          "data": {
            "text/plain": [
              "list"
            ]
          },
          "metadata": {},
          "execution_count": 11
        }
      ]
    },
    {
      "cell_type": "code",
      "source": [
        "# 코드 2-12. 리스트의 연결\n",
        "[1, 2, 3] + [4, 5]"
      ],
      "metadata": {
        "colab": {
          "base_uri": "https://localhost:8080/"
        },
        "id": "tfqINhAzc-A_",
        "outputId": "c9515095-6cc8-4d28-8630-c6f149c543d1"
      },
      "execution_count": 12,
      "outputs": [
        {
          "output_type": "execute_result",
          "data": {
            "text/plain": [
              "[1, 2, 3, 4, 5]"
            ]
          },
          "metadata": {},
          "execution_count": 12
        }
      ]
    },
    {
      "cell_type": "code",
      "source": [
        "# 코드 2-13. 리스트의 반복\n",
        "[1, 2, 3] * 2"
      ],
      "metadata": {
        "colab": {
          "base_uri": "https://localhost:8080/"
        },
        "id": "VGGNzkWQhNMw",
        "outputId": "4a433767-ab8f-4d4d-b263-084cc92b55f5"
      },
      "execution_count": 13,
      "outputs": [
        {
          "output_type": "execute_result",
          "data": {
            "text/plain": [
              "[1, 2, 3, 1, 2, 3]"
            ]
          },
          "metadata": {},
          "execution_count": 13
        }
      ]
    },
    {
      "cell_type": "code",
      "source": [
        "# 코드 2-14. 리스트의 인덱싱\n",
        "a = [1, 2, 3]\n",
        "a[0] # 리스트의 첫 번째 원소를 추출한다."
      ],
      "metadata": {
        "colab": {
          "base_uri": "https://localhost:8080/"
        },
        "id": "hjhnOdNSdB52",
        "outputId": "3674f931-2afa-4332-e015-1fc351c3c84a"
      },
      "execution_count": 14,
      "outputs": [
        {
          "output_type": "execute_result",
          "data": {
            "text/plain": [
              "1"
            ]
          },
          "metadata": {},
          "execution_count": 14
        }
      ]
    },
    {
      "cell_type": "code",
      "source": [
        "# 코드 2-15. 리스트의 길이 반환\n",
        "len(a)"
      ],
      "metadata": {
        "colab": {
          "base_uri": "https://localhost:8080/"
        },
        "id": "XcfoSSFUdHZ0",
        "outputId": "170584a7-fcf8-4839-e8fa-fa3d7759a429"
      },
      "execution_count": 15,
      "outputs": [
        {
          "output_type": "execute_result",
          "data": {
            "text/plain": [
              "3"
            ]
          },
          "metadata": {},
          "execution_count": 15
        }
      ]
    },
    {
      "cell_type": "markdown",
      "source": [
        "#### 2.1.7. 튜플"
      ],
      "metadata": {
        "id": "AphZMj96ohRs"
      }
    },
    {
      "cell_type": "code",
      "source": [
        "# 코드 2-16. 튜플의 생성\n",
        "(1, 2, 3)"
      ],
      "metadata": {
        "colab": {
          "base_uri": "https://localhost:8080/"
        },
        "id": "gcXT1MlNyhcX",
        "outputId": "aeec6069-32b4-4d3f-ab79-e8a9cf0a06a6"
      },
      "execution_count": 16,
      "outputs": [
        {
          "output_type": "execute_result",
          "data": {
            "text/plain": [
              "(1, 2, 3)"
            ]
          },
          "metadata": {},
          "execution_count": 16
        }
      ]
    },
    {
      "cell_type": "code",
      "source": [
        "# 코드 2-17. type 함수로 튜플의 자료형 확인\n",
        "type((1, 2, 3))"
      ],
      "metadata": {
        "colab": {
          "base_uri": "https://localhost:8080/"
        },
        "id": "sfeHwZ9SypKi",
        "outputId": "c6770901-fe9d-4794-df1e-e3fd78a58540"
      },
      "execution_count": 17,
      "outputs": [
        {
          "output_type": "execute_result",
          "data": {
            "text/plain": [
              "tuple"
            ]
          },
          "metadata": {},
          "execution_count": 17
        }
      ]
    },
    {
      "cell_type": "code",
      "source": [
        "# 코드 2-18. 튜플은 괄호를 생략할 수도 있다.\n",
        "a = 1, 2\n",
        "type(a)"
      ],
      "metadata": {
        "colab": {
          "base_uri": "https://localhost:8080/"
        },
        "id": "O4lHU2wY4bGo",
        "outputId": "bd7d962a-af40-48ef-fb5a-a443f50a8ac2"
      },
      "execution_count": 18,
      "outputs": [
        {
          "output_type": "execute_result",
          "data": {
            "text/plain": [
              "tuple"
            ]
          },
          "metadata": {},
          "execution_count": 18
        }
      ]
    },
    {
      "cell_type": "code",
      "source": [
        "# 코드 2-19. 튜플을 이용해 복수의 변수 한 번에 지정하기\n",
        "b, c = 1, 2\n",
        "print(b)\n",
        "print(c)"
      ],
      "metadata": {
        "colab": {
          "base_uri": "https://localhost:8080/"
        },
        "id": "eR5LecZuyzdZ",
        "outputId": "f7662ea3-6732-46b9-aa3b-85a76bedf90b"
      },
      "execution_count": 19,
      "outputs": [
        {
          "output_type": "stream",
          "name": "stdout",
          "text": [
            "1\n",
            "2\n"
          ]
        }
      ]
    },
    {
      "cell_type": "markdown",
      "source": [
        "#### 2.1.8. 딕셔너리"
      ],
      "metadata": {
        "id": "t2jXy-qboBXF"
      }
    },
    {
      "cell_type": "code",
      "source": [
        "# 코드 2-20. 딕셔너리 생성\n",
        "{'가': 1, '나': 2}"
      ],
      "metadata": {
        "colab": {
          "base_uri": "https://localhost:8080/"
        },
        "id": "CT3g2U1yn_kl",
        "outputId": "1d0cf334-1bff-4537-c0ea-96144be940b0"
      },
      "execution_count": 20,
      "outputs": [
        {
          "output_type": "execute_result",
          "data": {
            "text/plain": [
              "{'가': 1, '나': 2}"
            ]
          },
          "metadata": {},
          "execution_count": 20
        }
      ]
    },
    {
      "cell_type": "code",
      "source": [
        "# 코드 2-21. 딕셔너리의 인덱싱\n",
        "a = {'가': 1, '나': 2}\n",
        "a['가']"
      ],
      "metadata": {
        "colab": {
          "base_uri": "https://localhost:8080/"
        },
        "id": "ai6objoT8dzo",
        "outputId": "bdc05d63-2cfd-454c-a0e9-5b422d908168"
      },
      "execution_count": 21,
      "outputs": [
        {
          "output_type": "execute_result",
          "data": {
            "text/plain": [
              "1"
            ]
          },
          "metadata": {},
          "execution_count": 21
        }
      ]
    },
    {
      "cell_type": "code",
      "source": [
        "# 코드 2-22. 딕셔너리의 원소 수정하기\n",
        "a = {'가': 1, '나': 2}\n",
        "a['가'] = 3\n",
        "a"
      ],
      "metadata": {
        "colab": {
          "base_uri": "https://localhost:8080/"
        },
        "id": "YxFIPhygA1GK",
        "outputId": "533e1a9c-0ff9-4254-b07c-9832a53cf493"
      },
      "execution_count": 22,
      "outputs": [
        {
          "output_type": "execute_result",
          "data": {
            "text/plain": [
              "{'가': 3, '나': 2}"
            ]
          },
          "metadata": {},
          "execution_count": 22
        }
      ]
    },
    {
      "cell_type": "code",
      "source": [
        "# 코드 2-23. 딕셔너리에 원소 추가하기\n",
        "a = {'가': 1, '나': 2}\n",
        "a['다'] = 3 # '다'는 a에 존재하지 않는 키이다.\n",
        "a"
      ],
      "metadata": {
        "colab": {
          "base_uri": "https://localhost:8080/"
        },
        "id": "_hvi2omOoLPi",
        "outputId": "5887b2ca-deb9-4e73-bb6f-5eaf6afe1264"
      },
      "execution_count": 23,
      "outputs": [
        {
          "output_type": "execute_result",
          "data": {
            "text/plain": [
              "{'가': 1, '나': 2, '다': 3}"
            ]
          },
          "metadata": {},
          "execution_count": 23
        }
      ]
    },
    {
      "cell_type": "markdown",
      "source": [
        "### 2.2. 제어문과 함수"
      ],
      "metadata": {
        "id": "pdwr58pIf_xz"
      }
    },
    {
      "cell_type": "markdown",
      "source": [
        "#### 2.2.1. 제어문"
      ],
      "metadata": {
        "id": "cYXQyFgVgCME"
      }
    },
    {
      "cell_type": "code",
      "source": [
        "# 코드 2-24. 반복문 수행하기\n",
        "for i in ['a', 1, 3.1]:\n",
        "    print(type(i))"
      ],
      "metadata": {
        "colab": {
          "base_uri": "https://localhost:8080/"
        },
        "id": "cluyA28tgFd5",
        "outputId": "954719b7-9d2d-436a-deb5-abdcfa96496a"
      },
      "execution_count": 24,
      "outputs": [
        {
          "output_type": "stream",
          "name": "stdout",
          "text": [
            "<class 'str'>\n",
            "<class 'int'>\n",
            "<class 'float'>\n"
          ]
        }
      ]
    },
    {
      "cell_type": "code",
      "source": [
        "# 코드 2-25. 반복문을 사용하지 않고 코드 2-24를 수행하는 코드\n",
        "print(type('a'))\n",
        "print(type(1))\n",
        "print(type(3.1))"
      ],
      "metadata": {
        "colab": {
          "base_uri": "https://localhost:8080/"
        },
        "id": "HhD4odZLmf6z",
        "outputId": "6806e9fb-bf27-45f7-d336-d10844de2ccd"
      },
      "execution_count": 25,
      "outputs": [
        {
          "output_type": "stream",
          "name": "stdout",
          "text": [
            "<class 'str'>\n",
            "<class 'int'>\n",
            "<class 'float'>\n"
          ]
        }
      ]
    },
    {
      "cell_type": "markdown",
      "source": [
        "#### 2.2.2. 함수"
      ],
      "metadata": {
        "id": "JLRyjSnRrSh5"
      }
    },
    {
      "cell_type": "code",
      "source": [
        "# 코드 2-26. 함수 정의하기\n",
        "def add_one(x):\n",
        "    return x + 1\n",
        "\n",
        "# 생성한 add_one 함수를 호출해 인수 2를 입력하기\n",
        "add_one(2)"
      ],
      "metadata": {
        "colab": {
          "base_uri": "https://localhost:8080/"
        },
        "id": "h4YbbhP7rSwk",
        "outputId": "ec8afcad-c194-4ec1-a59c-c6ba1f1d0b76"
      },
      "execution_count": 26,
      "outputs": [
        {
          "output_type": "execute_result",
          "data": {
            "text/plain": [
              "3"
            ]
          },
          "metadata": {},
          "execution_count": 26
        }
      ]
    },
    {
      "cell_type": "markdown",
      "source": [
        "### 2.3. 클래스와 객체, 라이브러리"
      ],
      "metadata": {
        "id": "mm_-pTASdELE"
      }
    },
    {
      "cell_type": "markdown",
      "source": [
        "#### 2.3.1. 클래스와 객체"
      ],
      "metadata": {
        "id": "o7uZ1sckdI27"
      }
    },
    {
      "cell_type": "markdown",
      "source": [
        "#### 2.3.2. 라이브러리"
      ],
      "metadata": {
        "id": "Ojbtxad4dLnF"
      }
    },
    {
      "cell_type": "code",
      "source": [
        "# 코드 2-27. 판다스 라이브러리 불러오기\n",
        "import pandas as pd"
      ],
      "metadata": {
        "id": "hY306BQrdgfx"
      },
      "execution_count": 27,
      "outputs": []
    },
    {
      "cell_type": "code",
      "source": [
        "# 코드 2-28. 판다스 라이브러리의 버전 확인하기\n",
        "pd.__version__"
      ],
      "metadata": {
        "colab": {
          "base_uri": "https://localhost:8080/",
          "height": 35
        },
        "id": "W0TbQQw2XNHl",
        "outputId": "2f4853e8-2f16-4e79-a497-1aff17a3c64d"
      },
      "execution_count": 28,
      "outputs": [
        {
          "output_type": "execute_result",
          "data": {
            "text/plain": [
              "'2.0.3'"
            ],
            "application/vnd.google.colaboratory.intrinsic+json": {
              "type": "string"
            }
          },
          "metadata": {},
          "execution_count": 28
        }
      ]
    },
    {
      "cell_type": "markdown",
      "source": [
        "#### 2.3.3. 넘파이 라이브러리"
      ],
      "metadata": {
        "id": "_Jg9UGj_dPmy"
      }
    },
    {
      "cell_type": "code",
      "source": [
        "# 코드 2-29. 넘파이 라이브러리 불러오기\n",
        "import numpy as np"
      ],
      "metadata": {
        "id": "bZ2QmiodrxdE"
      },
      "execution_count": 29,
      "outputs": []
    },
    {
      "cell_type": "code",
      "source": [
        "# 코드 2-30. 넘파이 라이브러리의 버전 확인하기\n",
        "np.__version__"
      ],
      "metadata": {
        "colab": {
          "base_uri": "https://localhost:8080/",
          "height": 35
        },
        "id": "DjRyiWbaZCiS",
        "outputId": "74c394f1-30ca-48d8-f75b-41a7d7816539"
      },
      "execution_count": 30,
      "outputs": [
        {
          "output_type": "execute_result",
          "data": {
            "text/plain": [
              "'1.25.2'"
            ],
            "application/vnd.google.colaboratory.intrinsic+json": {
              "type": "string"
            }
          },
          "metadata": {},
          "execution_count": 30
        }
      ]
    },
    {
      "cell_type": "code",
      "source": [
        "# 코드 2-31. 넘파이의 어레이 클래스 생성하기\n",
        "a = np.array([[1, 2, 3], [4, 5, 6]])\n",
        "a"
      ],
      "metadata": {
        "colab": {
          "base_uri": "https://localhost:8080/"
        },
        "id": "w3Nx3q-Ed7HR",
        "outputId": "36eeceef-b090-498b-c625-6eb1e85722a4"
      },
      "execution_count": 31,
      "outputs": [
        {
          "output_type": "execute_result",
          "data": {
            "text/plain": [
              "array([[1, 2, 3],\n",
              "       [4, 5, 6]])"
            ]
          },
          "metadata": {},
          "execution_count": 31
        }
      ]
    },
    {
      "cell_type": "code",
      "source": [
        "# 코드 2-32. 어레이의 벡터화 연산\n",
        "a + 1"
      ],
      "metadata": {
        "colab": {
          "base_uri": "https://localhost:8080/"
        },
        "id": "mCgbawK_eBeR",
        "outputId": "86611c8b-75e7-48ed-b731-1d5728405dd6"
      },
      "execution_count": 32,
      "outputs": [
        {
          "output_type": "execute_result",
          "data": {
            "text/plain": [
              "array([[2, 3, 4],\n",
              "       [5, 6, 7]])"
            ]
          },
          "metadata": {},
          "execution_count": 32
        }
      ]
    },
    {
      "cell_type": "code",
      "source": [
        "# 코드 2-33. 어레이의 벡터화 연산(비교 연산)\n",
        "a > 2"
      ],
      "metadata": {
        "colab": {
          "base_uri": "https://localhost:8080/"
        },
        "id": "aKC_s2_H3lNV",
        "outputId": "0b1ac6b3-8b91-4bbe-bcf9-cc40c57c8be3"
      },
      "execution_count": 33,
      "outputs": [
        {
          "output_type": "execute_result",
          "data": {
            "text/plain": [
              "array([[False, False,  True],\n",
              "       [ True,  True,  True]])"
            ]
          },
          "metadata": {},
          "execution_count": 33
        }
      ]
    }
  ]
}