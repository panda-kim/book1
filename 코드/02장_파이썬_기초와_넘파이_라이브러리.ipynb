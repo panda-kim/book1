{
  "nbformat": 4,
  "nbformat_minor": 0,
  "metadata": {
    "colab": {
      "provenance": []
    },
    "kernelspec": {
      "name": "python3",
      "display_name": "Python 3"
    },
    "language_info": {
      "name": "python"
    }
  },
  "cells": [
    {
      "cell_type": "markdown",
      "source": [
        "![Image](../images/main.jpg)"
      ],
      "metadata": {
        "id": "QosRIytDT-mg"
      }
    },
{
    "cell_type": "markdown",
    "source": [
      "⭐ [『데이터 분석 입문자를 위한 기초 파이썬 with ChatGPT』 개강](https://inf.run/r1F9p) 👈 50% 할인 이벤트 진행중  \n",
      "⭐ [김판다 강사의 강의 소개 및 30~50% 강의 할인 쿠폰 북](https://harmonious-tiglon-6a2.notion.site/25a4cf741b2e806fa1ecea0182bbaf4c)"
    ],
    "metadata": {
      "id": "intro-links"
    }
  },
    {
      "cell_type": "markdown",
      "source": [
        "## Chapter 2. 파이썬 기초와 넘파이 라이브러리"
      ],
      "metadata": {
        "id": "AaDgLbfKDU2c"
      }
    },
    {
      "cell_type": "markdown",
      "source": [
        "### 2.1. 변수와 자료형"
      ],
      "metadata": {
        "id": "dZbY8h0YDXSl"
      }
    },
    {
      "cell_type": "markdown",
      "source": [
        "#### 2.1.1. 변수"
      ],
      "metadata": {
        "id": "cGlJ5P23DXa1"
      }
    },
    {
      "cell_type": "markdown",
      "source": [
        "#### 2.1.2. 정수"
      ],
      "metadata": {
        "id": "dc4ZavyCDeO8"
      }
    },
    {
      "cell_type": "markdown",
      "source": [
        "#### 2.1.3. 실수"
      ],
      "metadata": {
        "id": "82Tvr4wBDhAK"
      }
    },
    {
      "cell_type": "code",
      "source": [
        "# 코드 2-1. 실수의 출력\n",
        "13.01 # 부동 소수점으로 출력하는 것은 아니다."
      ],
      "metadata": {
        "colab": {
          "base_uri": "https://localhost:8080/"
        },
        "id": "wjElrbQIDTIR",
        "outputId": "16456ac0-2e00-4947-e453-55c4ede027d0"
      },
      "execution_count": null,
      "outputs": [
        {
          "output_type": "execute_result",
          "data": {
            "text/plain": [
              "13.01"
            ]
          },
          "metadata": {},
          "execution_count": 1
        }
      ]
    },
    {
      "cell_type": "markdown",
      "source": [
        "#### 2.1.4. 문자열"
      ],
      "metadata": {
        "id": "9MQTpE2VJ-z2"
      }
    },
    {
      "cell_type": "code",
      "source": [
        "# 코드 2-2. 문자열의 연결\n",
        "'김' + '판다'"
      ],
      "metadata": {
        "colab": {
          "base_uri": "https://localhost:8080/",
          "height": 35
        },
        "id": "KTLudRKxDTVj",
        "outputId": "a18e2052-80f9-4585-d6ce-6d1fd80fb2d4"
      },
      "execution_count": null,
      "outputs": [
        {
          "output_type": "execute_result",
          "data": {
            "text/plain": [
              "'김판다'"
            ],
            "application/vnd.google.colaboratory.intrinsic+json": {
              "type": "string"
            }
          },
          "metadata": {},
          "execution_count": 2
        }
      ]
    },
    {
      "cell_type": "code",
      "source": [
        "# 코드 2-3. 문자열의 인덱싱\n",
        "a = '김판다'\n",
        "a[0] # 첫 번째 문자열을 반환한다"
      ],
      "metadata": {
        "colab": {
          "base_uri": "https://localhost:8080/",
          "height": 35
        },
        "id": "OqtFnpmUDTjm",
        "outputId": "4f2860cc-6081-4ce2-8d16-46d3c6e3c2dc"
      },
      "execution_count": null,
      "outputs": [
        {
          "output_type": "execute_result",
          "data": {
            "text/plain": [
              "'김'"
            ],
            "application/vnd.google.colaboratory.intrinsic+json": {
              "type": "string"
            }
          },
          "metadata": {},
          "execution_count": 3
        }
      ]
    },
    {
      "cell_type": "code",
      "source": [
        "# 코드 2-4. len 함수로 문자열의 길이 반환\n",
        "len(a) # 변수 a인 문자열 '김판다'의 길이를 반환한다"
      ],
      "metadata": {
        "colab": {
          "base_uri": "https://localhost:8080/"
        },
        "id": "g8FB4o1qKUW7",
        "outputId": "ac34c547-cff7-4dad-f134-b2572165f182"
      },
      "execution_count": null,
      "outputs": [
        {
          "output_type": "execute_result",
          "data": {
            "text/plain": [
              "3"
            ]
          },
          "metadata": {},
          "execution_count": 4
        }
      ]
    },
    {
      "cell_type": "code",
      "source": [
        "# 코드 2-5. 문자열 포매팅(f-string 기법)\n",
        "a = '김판다'\n",
        "b = '판다스'\n",
        "f'{a} 강사와 함께 {b}를 배웁시다'"
      ],
      "metadata": {
        "colab": {
          "base_uri": "https://localhost:8080/",
          "height": 35
        },
        "id": "uac_Kv_tKSkG",
        "outputId": "e018f643-fdaa-4608-8104-5ed0f58d3120"
      },
      "execution_count": null,
      "outputs": [
        {
          "output_type": "execute_result",
          "data": {
            "text/plain": [
              "'김판다 강사와 함께 판다스를 배웁시다'"
            ],
            "application/vnd.google.colaboratory.intrinsic+json": {
              "type": "string"
            }
          },
          "metadata": {},
          "execution_count": 5
        }
      ]
    },
    {
      "cell_type": "code",
      "source": [
        "# 코드 2-6. 문자열 포매팅(format 함수)\n",
        "'{} 강사와 함께 {}를 배웁시다'.format(a, b)"
      ],
      "metadata": {
        "colab": {
          "base_uri": "https://localhost:8080/",
          "height": 35
        },
        "id": "Q1dKaKVjKxfb",
        "outputId": "7a254f63-92cf-4ba6-b323-8a75097b8447"
      },
      "execution_count": null,
      "outputs": [
        {
          "output_type": "execute_result",
          "data": {
            "text/plain": [
              "'김판다 강사와 함께 판다스를 배웁시다'"
            ],
            "application/vnd.google.colaboratory.intrinsic+json": {
              "type": "string"
            }
          },
          "metadata": {},
          "execution_count": 6
        }
      ]
    },
    {
      "cell_type": "code",
      "source": [
        "# 코드 2-7. 문자열 포매팅 대신 문자열 연결을 사용\n",
        "a + ' 강사와 함께 ' + b + '를 배웁시다'"
      ],
      "metadata": {
        "colab": {
          "base_uri": "https://localhost:8080/",
          "height": 35
        },
        "id": "1qiCxgjAQjC4",
        "outputId": "9b08c75b-4804-4e54-fa1a-34e00b820042"
      },
      "execution_count": null,
      "outputs": [
        {
          "output_type": "execute_result",
          "data": {
            "text/plain": [
              "'김판다 강사와 함께 판다스를 배웁시다'"
            ],
            "application/vnd.google.colaboratory.intrinsic+json": {
              "type": "string"
            }
          },
          "metadata": {},
          "execution_count": 7
        }
      ]
    },
    {
      "cell_type": "markdown",
      "source": [
        "#### 2.1.5. 불"
      ],
      "metadata": {
        "id": "x9y3Ir57T5RT"
      }
    },
    {
      "cell_type": "code",
      "source": [
        "# 코드 2-8. 불(bool) 자료형의 산술 연산\n",
        "True + True + False"
      ],
      "metadata": {
        "colab": {
          "base_uri": "https://localhost:8080/"
        },
        "id": "kYbhgLJUT5f2",
        "outputId": "a28293ba-641a-4b3b-dc25-48a97b56fc5b"
      },
      "execution_count": null,
      "outputs": [
        {
          "output_type": "execute_result",
          "data": {
            "text/plain": [
              "2"
            ]
          },
          "metadata": {},
          "execution_count": 8
        }
      ]
    },
    {
      "cell_type": "code",
      "source": [
        "# 코드 2-9. 불(bool) 자료형의 논리 연산\n",
        "True & True & False # 모두 True인 것이 아니므로 False를 반환한다."
      ],
      "metadata": {
        "colab": {
          "base_uri": "https://localhost:8080/"
        },
        "id": "Wl3X6oe9VIkC",
        "outputId": "b388faff-8c23-4d38-f6f0-0d164ee1f9c9"
      },
      "execution_count": null,
      "outputs": [
        {
          "output_type": "execute_result",
          "data": {
            "text/plain": [
              "False"
            ]
          },
          "metadata": {},
          "execution_count": 9
        }
      ]
    },
    {
      "cell_type": "markdown",
      "source": [
        "#### 2.1.6. 리스트"
      ],
      "metadata": {
        "id": "XxGjuQfCczHA"
      }
    },
    {
      "cell_type": "code",
      "source": [
        "# 코드 2-10. 리스트의 생성\n",
        "[1, 2, 3]"
      ],
      "metadata": {
        "colab": {
          "base_uri": "https://localhost:8080/"
        },
        "id": "XamSa2uYcwMe",
        "outputId": "804c3381-5142-4306-f9da-2a7018db003b"
      },
      "execution_count": null,
      "outputs": [
        {
          "output_type": "execute_result",
          "data": {
            "text/plain": [
              "[1, 2, 3]"
            ]
          },
          "metadata": {},
          "execution_count": 10
        }
      ]
    },
    {
      "cell_type": "code",
      "source": [
        "# 코드 2-11. type 함수로 자료형 확인\n",
        "type([1, 2, 3])"
      ],
      "metadata": {
        "colab": {
          "base_uri": "https://localhost:8080/"
        },
        "id": "qoUdieL2c6B6",
        "outputId": "f11d3a90-d7d3-4cf6-b6ce-f452c42f4eb2"
      },
      "execution_count": null,
      "outputs": [
        {
          "output_type": "execute_result",
          "data": {
            "text/plain": [
              "list"
            ]
          },
          "metadata": {},
          "execution_count": 11
        }
      ]
    },
    {
      "cell_type": "code",
      "source": [
        "# 코드 2-12. 리스트의 연결\n",
        "[1, 2, 3] + [4, 5]"
      ],
      "metadata": {
        "colab": {
          "base_uri": "https://localhost:8080/"
        },
        "id": "tfqINhAzc-A_",
        "outputId": "e00d1270-4c9d-43e4-c242-bbbb865331fb"
      },
      "execution_count": null,
      "outputs": [
        {
          "output_type": "execute_result",
          "data": {
            "text/plain": [
              "[1, 2, 3, 4, 5]"
            ]
          },
          "metadata": {},
          "execution_count": 12
        }
      ]
    },
    {
      "cell_type": "code",
      "source": [
        "# 코드 2-13. 리스트의 반복\n",
        "[1, 2, 3] * 2"
      ],
      "metadata": {
        "colab": {
          "base_uri": "https://localhost:8080/"
        },
        "id": "VGGNzkWQhNMw",
        "outputId": "30b82e78-d597-4287-cc18-b2c072d78b39"
      },
      "execution_count": null,
      "outputs": [
        {
          "output_type": "execute_result",
          "data": {
            "text/plain": [
              "[1, 2, 3, 1, 2, 3]"
            ]
          },
          "metadata": {},
          "execution_count": 13
        }
      ]
    },
    {
      "cell_type": "code",
      "source": [
        "# 코드 2-14. 리스트의 인덱싱\n",
        "a = [1, 2, 3]\n",
        "a[0] # 리스트의 첫 번째 원소를 추출한다."
      ],
      "metadata": {
        "colab": {
          "base_uri": "https://localhost:8080/"
        },
        "id": "hjhnOdNSdB52",
        "outputId": "6f66cc90-70be-4812-b3df-d1709afccfa7"
      },
      "execution_count": null,
      "outputs": [
        {
          "output_type": "execute_result",
          "data": {
            "text/plain": [
              "1"
            ]
          },
          "metadata": {},
          "execution_count": 14
        }
      ]
    },
    {
      "cell_type": "code",
      "source": [
        "# 코드 2-15. 리스트의 길이 반환\n",
        "len(a)"
      ],
      "metadata": {
        "colab": {
          "base_uri": "https://localhost:8080/"
        },
        "id": "XcfoSSFUdHZ0",
        "outputId": "6aae2722-4c10-4f1e-d799-f8a90753a840"
      },
      "execution_count": null,
      "outputs": [
        {
          "output_type": "execute_result",
          "data": {
            "text/plain": [
              "3"
            ]
          },
          "metadata": {},
          "execution_count": 15
        }
      ]
    },
    {
      "cell_type": "markdown",
      "source": [
        "#### 2.1.7. 튜플"
      ],
      "metadata": {
        "id": "AphZMj96ohRs"
      }
    },
    {
      "cell_type": "code",
      "source": [
        "# 코드 2-16. 튜플의 생성\n",
        "(1, 2, 3)"
      ],
      "metadata": {
        "colab": {
          "base_uri": "https://localhost:8080/"
        },
        "id": "gcXT1MlNyhcX",
        "outputId": "a8c38602-1f2d-4383-fb80-624dea211577"
      },
      "execution_count": null,
      "outputs": [
        {
          "output_type": "execute_result",
          "data": {
            "text/plain": [
              "(1, 2, 3)"
            ]
          },
          "metadata": {},
          "execution_count": 16
        }
      ]
    },
    {
      "cell_type": "code",
      "source": [
        "# 코드 2-17. type 함수로 튜플의 자료형 확인\n",
        "type((1, 2, 3))"
      ],
      "metadata": {
        "colab": {
          "base_uri": "https://localhost:8080/"
        },
        "id": "sfeHwZ9SypKi",
        "outputId": "91285e19-ddb7-437e-adfb-92821dcf2a5c"
      },
      "execution_count": null,
      "outputs": [
        {
          "output_type": "execute_result",
          "data": {
            "text/plain": [
              "tuple"
            ]
          },
          "metadata": {},
          "execution_count": 17
        }
      ]
    },
    {
      "cell_type": "code",
      "source": [
        "# 코드 2-18. 튜플은 괄호를 생략할 수도 있다.\n",
        "a = 1, 2\n",
        "type(a)"
      ],
      "metadata": {
        "colab": {
          "base_uri": "https://localhost:8080/"
        },
        "id": "O4lHU2wY4bGo",
        "outputId": "3a592201-7785-43e2-9eba-7fb2205f66bc"
      },
      "execution_count": null,
      "outputs": [
        {
          "output_type": "execute_result",
          "data": {
            "text/plain": [
              "tuple"
            ]
          },
          "metadata": {},
          "execution_count": 18
        }
      ]
    },
    {
      "cell_type": "code",
      "source": [
        "# 코드 2-19. 튜플을 이용해 복수의 변수 한 번에 지정하기\n",
        "b, c = 1, 2\n",
        "print(b)\n",
        "print(c)"
      ],
      "metadata": {
        "colab": {
          "base_uri": "https://localhost:8080/"
        },
        "id": "eR5LecZuyzdZ",
        "outputId": "ac8fb581-38ba-4705-aa5a-e808914420ff"
      },
      "execution_count": null,
      "outputs": [
        {
          "output_type": "stream",
          "name": "stdout",
          "text": [
            "1\n",
            "2\n"
          ]
        }
      ]
    },
    {
      "cell_type": "markdown",
      "source": [
        "#### 2.1.8. 딕셔너리"
      ],
      "metadata": {
        "id": "t2jXy-qboBXF"
      }
    },
    {
      "cell_type": "code",
      "source": [
        "# 코드 2-20. 딕셔너리 생성\n",
        "{'가': 1, '나': 2}"
      ],
      "metadata": {
        "colab": {
          "base_uri": "https://localhost:8080/"
        },
        "id": "CT3g2U1yn_kl",
        "outputId": "7e5a3117-5971-46e5-8339-8692722ca3a8"
      },
      "execution_count": null,
      "outputs": [
        {
          "output_type": "execute_result",
          "data": {
            "text/plain": [
              "{'가': 1, '나': 2}"
            ]
          },
          "metadata": {},
          "execution_count": 20
        }
      ]
    },
    {
      "cell_type": "code",
      "source": [
        "# 코드 2-21. 딕셔너리의 인덱싱\n",
        "a = {'가': 1, '나': 2}\n",
        "a['가']"
      ],
      "metadata": {
        "colab": {
          "base_uri": "https://localhost:8080/"
        },
        "id": "ai6objoT8dzo",
        "outputId": "6bbd8a32-0d44-42ab-d020-d92b1c806483"
      },
      "execution_count": null,
      "outputs": [
        {
          "output_type": "execute_result",
          "data": {
            "text/plain": [
              "1"
            ]
          },
          "metadata": {},
          "execution_count": 21
        }
      ]
    },
    {
      "cell_type": "code",
      "source": [
        "# 코드 2-22. 딕셔너리의 원소 수정하기\n",
        "a = {'가': 1, '나': 2}\n",
        "a['가'] = 3\n",
        "a"
      ],
      "metadata": {
        "colab": {
          "base_uri": "https://localhost:8080/"
        },
        "id": "YxFIPhygA1GK",
        "outputId": "36b26b35-e45d-4762-ebe7-da95e1936f2e"
      },
      "execution_count": null,
      "outputs": [
        {
          "output_type": "execute_result",
          "data": {
            "text/plain": [
              "{'가': 3, '나': 2}"
            ]
          },
          "metadata": {},
          "execution_count": 22
        }
      ]
    },
    {
      "cell_type": "code",
      "source": [
        "# 코드 2-23. 딕셔너리에 원소 추가하기\n",
        "a = {'가': 1, '나': 2}\n",
        "a['다'] = 3 # '다'는 a에 존재하지 않는 키이다.\n",
        "a"
      ],
      "metadata": {
        "colab": {
          "base_uri": "https://localhost:8080/"
        },
        "id": "_hvi2omOoLPi",
        "outputId": "dc19e246-0c53-4ed0-84c4-758688e39cf9"
      },
      "execution_count": null,
      "outputs": [
        {
          "output_type": "execute_result",
          "data": {
            "text/plain": [
              "{'가': 1, '나': 2, '다': 3}"
            ]
          },
          "metadata": {},
          "execution_count": 23
        }
      ]
    },
    {
      "cell_type": "markdown",
      "source": [
        "### 2.2. 제어문과 함수"
      ],
      "metadata": {
        "id": "pdwr58pIf_xz"
      }
    },
    {
      "cell_type": "markdown",
      "source": [
        "#### 2.2.1. 제어문"
      ],
      "metadata": {
        "id": "cYXQyFgVgCME"
      }
    },
    {
      "cell_type": "code",
      "source": [
        "# 코드 2-24. 반복문 수행하기\n",
        "for i in ['a', 1, 3.1]:\n",
        "    print(type(i))"
      ],
      "metadata": {
        "colab": {
          "base_uri": "https://localhost:8080/"
        },
        "id": "cluyA28tgFd5",
        "outputId": "e48d6b79-9d46-44fd-dcad-b86ade31b2bb"
      },
      "execution_count": null,
      "outputs": [
        {
          "output_type": "stream",
          "name": "stdout",
          "text": [
            "<class 'str'>\n",
            "<class 'int'>\n",
            "<class 'float'>\n"
          ]
        }
      ]
    },
    {
      "cell_type": "code",
      "source": [
        "# 코드 2-25. 반복문을 사용하지 않고 코드 2-24를 수행하는 코드\n",
        "print(type('a'))\n",
        "print(type(1))\n",
        "print(type(3.1))"
      ],
      "metadata": {
        "colab": {
          "base_uri": "https://localhost:8080/"
        },
        "id": "HhD4odZLmf6z",
        "outputId": "d41b08a5-0928-47a0-cfc9-98cbbb3fa0ba"
      },
      "execution_count": null,
      "outputs": [
        {
          "output_type": "stream",
          "name": "stdout",
          "text": [
            "<class 'str'>\n",
            "<class 'int'>\n",
            "<class 'float'>\n"
          ]
        }
      ]
    },
    {
      "cell_type": "markdown",
      "source": [
        "#### 2.2.2. 함수"
      ],
      "metadata": {
        "id": "JLRyjSnRrSh5"
      }
    },
    {
      "cell_type": "code",
      "source": [
        "# 코드 2-26. 함수 정의하기\n",
        "def add_one(x):\n",
        "    return x + 1\n",
        "\n",
        "# 생성한 add_one 함수를 호출해 인수 2를 입력하기\n",
        "add_one(2)"
      ],
      "metadata": {
        "colab": {
          "base_uri": "https://localhost:8080/"
        },
        "id": "h4YbbhP7rSwk",
        "outputId": "d15dbeb7-3aa0-48a1-ed81-76b12aa8f96b"
      },
      "execution_count": null,
      "outputs": [
        {
          "output_type": "execute_result",
          "data": {
            "text/plain": [
              "3"
            ]
          },
          "metadata": {},
          "execution_count": 26
        }
      ]
    },
    {
      "cell_type": "markdown",
      "source": [
        "### 2.3. 클래스와 객체, 라이브러리"
      ],
      "metadata": {
        "id": "mm_-pTASdELE"
      }
    },
    {
      "cell_type": "markdown",
      "source": [
        "#### 2.3.1. 클래스와 객체"
      ],
      "metadata": {
        "id": "o7uZ1sckdI27"
      }
    },
    {
      "cell_type": "markdown",
      "source": [
        "#### 2.3.2. 라이브러리"
      ],
      "metadata": {
        "id": "Ojbtxad4dLnF"
      }
    },
    {
      "cell_type": "code",
      "source": [
        "# 코드 2-27. 판다스 라이브러리 불러오기\n",
        "import pandas as pd"
      ],
      "metadata": {
        "id": "hY306BQrdgfx"
      },
      "execution_count": null,
      "outputs": []
    },
    {
      "cell_type": "code",
      "source": [
        "# 코드 2-28. 판다스 라이브러리의 버전 확인하기\n",
        "pd.__version__"
      ],
      "metadata": {
        "colab": {
          "base_uri": "https://localhost:8080/",
          "height": 35
        },
        "id": "W0TbQQw2XNHl",
        "outputId": "afa688b2-9795-48fb-8f1f-96201d783047"
      },
      "execution_count": null,
      "outputs": [
        {
          "output_type": "execute_result",
          "data": {
            "text/plain": [
              "'2.1.4'"
            ],
            "application/vnd.google.colaboratory.intrinsic+json": {
              "type": "string"
            }
          },
          "metadata": {},
          "execution_count": 28
        }
      ]
    },
    {
      "cell_type": "markdown",
      "source": [
        "판다스 라이브러리를 별도로 설치해야 하거나, 버전 차이로 인해 판다스 2.1.4 버전으로 업그레이드 또는 다운그레이드를 원하는 독자들은 아래 코드를 실행하자.\n",
        "\n",
        "```python\n",
        "!pip install pandas==2.1.4\n",
        "```"
      ],
      "metadata": {
        "id": "4XOLZms3LPAB"
      }
    },
    {
      "cell_type": "markdown",
      "source": [
        "#### 2.3.3. 넘파이 라이브러리"
      ],
      "metadata": {
        "id": "_Jg9UGj_dPmy"
      }
    },
    {
      "cell_type": "code",
      "source": [
        "# 코드 2-29. 넘파이 라이브러리 불러오기\n",
        "import numpy as np"
      ],
      "metadata": {
        "id": "bZ2QmiodrxdE"
      },
      "execution_count": null,
      "outputs": []
    },
    {
      "cell_type": "code",
      "source": [
        "# 코드 2-30. 넘파이 라이브러리의 버전 확인하기\n",
        "np.__version__"
      ],
      "metadata": {
        "colab": {
          "base_uri": "https://localhost:8080/",
          "height": 35
        },
        "id": "DjRyiWbaZCiS",
        "outputId": "7e80b95f-f177-47e4-dfc5-577e231cd09b"
      },
      "execution_count": null,
      "outputs": [
        {
          "output_type": "execute_result",
          "data": {
            "text/plain": [
              "'1.26.4'"
            ],
            "application/vnd.google.colaboratory.intrinsic+json": {
              "type": "string"
            }
          },
          "metadata": {},
          "execution_count": 30
        }
      ]
    },
    {
      "cell_type": "code",
      "source": [
        "# 코드 2-31. 넘파이의 어레이 클래스 생성하기\n",
        "a = np.array([[1, 2, 3], [4, 5, 6]])\n",
        "a"
      ],
      "metadata": {
        "colab": {
          "base_uri": "https://localhost:8080/"
        },
        "id": "w3Nx3q-Ed7HR",
        "outputId": "e3a0b1ea-9977-4c6e-98b7-16b8c0cc23cc"
      },
      "execution_count": null,
      "outputs": [
        {
          "output_type": "execute_result",
          "data": {
            "text/plain": [
              "array([[1, 2, 3],\n",
              "       [4, 5, 6]])"
            ]
          },
          "metadata": {},
          "execution_count": 31
        }
      ]
    },
    {
      "cell_type": "code",
      "source": [
        "# 코드 2-32. 어레이의 벡터화 연산\n",
        "a + 1"
      ],
      "metadata": {
        "colab": {
          "base_uri": "https://localhost:8080/"
        },
        "id": "mCgbawK_eBeR",
        "outputId": "662985bb-cfd0-46a2-8568-8e3320d5c5aa"
      },
      "execution_count": null,
      "outputs": [
        {
          "output_type": "execute_result",
          "data": {
            "text/plain": [
              "array([[2, 3, 4],\n",
              "       [5, 6, 7]])"
            ]
          },
          "metadata": {},
          "execution_count": 32
        }
      ]
    },
    {
      "cell_type": "code",
      "source": [
        "# 코드 2-33. 어레이의 벡터화 연산(비교 연산)\n",
        "a > 2"
      ],
      "metadata": {
        "colab": {
          "base_uri": "https://localhost:8080/"
        },
        "id": "aKC_s2_H3lNV",
        "outputId": "4084b147-653b-4bca-d93a-65fb1199eab2"
      },
      "execution_count": null,
      "outputs": [
        {
          "output_type": "execute_result",
          "data": {
            "text/plain": [
              "array([[False, False,  True],\n",
              "       [ True,  True,  True]])"
            ]
          },
          "metadata": {},
          "execution_count": 33
        }
      ]
    }
  ]
}
