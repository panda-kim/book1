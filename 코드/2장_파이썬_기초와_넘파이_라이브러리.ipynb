{
  "nbformat": 4,
  "nbformat_minor": 0,
  "metadata": {
    "colab": {
      "provenance": []
    },
    "kernelspec": {
      "name": "python3",
      "display_name": "Python 3"
    },
    "language_info": {
      "name": "python"
    }
  },
  "cells": [
    {
      "cell_type": "markdown",
      "source": [
        "## Chapter 2. 파이썬 기초와 넘파이 라이브러리"
      ],
      "metadata": {
        "id": "AaDgLbfKDU2c"
      }
    },
    {
      "cell_type": "markdown",
      "source": [
        "### 2.1. 변수와 자료형"
      ],
      "metadata": {
        "id": "dZbY8h0YDXSl"
      }
    },
    {
      "cell_type": "markdown",
      "source": [
        "#### 2.1.1. 변수"
      ],
      "metadata": {
        "id": "cGlJ5P23DXa1"
      }
    },
    {
      "cell_type": "markdown",
      "source": [
        "#### 2.1.2. 정수"
      ],
      "metadata": {
        "id": "dc4ZavyCDeO8"
      }
    },
    {
      "cell_type": "markdown",
      "source": [
        "#### 2.1.3. 실수"
      ],
      "metadata": {
        "id": "82Tvr4wBDhAK"
      }
    },
    {
      "cell_type": "code",
      "source": [
        "# 코드 2-1. 실수의 출력 (부동 소수점으로 출력하는 것은 아니다)\n",
        "13.01"
      ],
      "metadata": {
        "colab": {
          "base_uri": "https://localhost:8080/"
        },
        "id": "wjElrbQIDTIR",
        "outputId": "1ef696c2-bb96-4f6a-f1e2-897fb8ff1722"
      },
      "execution_count": 1,
      "outputs": [
        {
          "output_type": "execute_result",
          "data": {
            "text/plain": [
              "13.01"
            ]
          },
          "metadata": {},
          "execution_count": 1
        }
      ]
    },
    {
      "cell_type": "markdown",
      "source": [
        "#### 2.1.4. 문자열"
      ],
      "metadata": {
        "id": "9MQTpE2VJ-z2"
      }
    },
    {
      "cell_type": "code",
      "source": [
        "# 코드 2-2. 문자열의 연결\n",
        "'김' + '판다'"
      ],
      "metadata": {
        "colab": {
          "base_uri": "https://localhost:8080/",
          "height": 35
        },
        "id": "KTLudRKxDTVj",
        "outputId": "dd2d362d-f643-403b-a2c5-c020757feba7"
      },
      "execution_count": 2,
      "outputs": [
        {
          "output_type": "execute_result",
          "data": {
            "text/plain": [
              "'김판다'"
            ],
            "application/vnd.google.colaboratory.intrinsic+json": {
              "type": "string"
            }
          },
          "metadata": {},
          "execution_count": 2
        }
      ]
    },
    {
      "cell_type": "code",
      "source": [
        "# 코드 2-3. 문자열의 인덱싱\n",
        "a = '김판다'\n",
        "a[0] # 첫 번째 문자열을 반환한다"
      ],
      "metadata": {
        "colab": {
          "base_uri": "https://localhost:8080/",
          "height": 35
        },
        "id": "OqtFnpmUDTjm",
        "outputId": "c115b2e2-e00c-45f3-b90c-97841f04589f"
      },
      "execution_count": 3,
      "outputs": [
        {
          "output_type": "execute_result",
          "data": {
            "text/plain": [
              "'김'"
            ],
            "application/vnd.google.colaboratory.intrinsic+json": {
              "type": "string"
            }
          },
          "metadata": {},
          "execution_count": 3
        }
      ]
    },
    {
      "cell_type": "code",
      "source": [
        "# 코드 2-4. len 함수로 문자열의 길이 반환\n",
        "len(a) # 변수 a인 문자열 '김판다'의 길이를 반환한다"
      ],
      "metadata": {
        "colab": {
          "base_uri": "https://localhost:8080/"
        },
        "id": "g8FB4o1qKUW7",
        "outputId": "cdfc8b5b-eda1-4ea9-a3e5-f2d14fd81626"
      },
      "execution_count": 4,
      "outputs": [
        {
          "output_type": "execute_result",
          "data": {
            "text/plain": [
              "3"
            ]
          },
          "metadata": {},
          "execution_count": 4
        }
      ]
    },
    {
      "cell_type": "code",
      "source": [
        "# 코드 2-5. 문자열 포매팅 (f-string)\n",
        "a = '김판다'\n",
        "b = '판다스'\n",
        "f'{a} 강사와 함께 {b}를 배웁시다'"
      ],
      "metadata": {
        "colab": {
          "base_uri": "https://localhost:8080/",
          "height": 35
        },
        "id": "uac_Kv_tKSkG",
        "outputId": "b2629425-6091-42f3-8f92-6955d4b940f2"
      },
      "execution_count": 5,
      "outputs": [
        {
          "output_type": "execute_result",
          "data": {
            "text/plain": [
              "'김판다 강사와 함께 판다스를 배웁시다'"
            ],
            "application/vnd.google.colaboratory.intrinsic+json": {
              "type": "string"
            }
          },
          "metadata": {},
          "execution_count": 5
        }
      ]
    },
    {
      "cell_type": "code",
      "source": [
        "# 코드 2-6. 문자열 포매팅 (format 함수)\n",
        "'{} 강사와 함께 {}를 배웁시다'.format(a, b)"
      ],
      "metadata": {
        "colab": {
          "base_uri": "https://localhost:8080/",
          "height": 35
        },
        "id": "Q1dKaKVjKxfb",
        "outputId": "6e56cd32-aaa9-4195-e2b7-71915dde0952"
      },
      "execution_count": 6,
      "outputs": [
        {
          "output_type": "execute_result",
          "data": {
            "text/plain": [
              "'김판다 강사와 함께 판다스를 배웁시다'"
            ],
            "application/vnd.google.colaboratory.intrinsic+json": {
              "type": "string"
            }
          },
          "metadata": {},
          "execution_count": 6
        }
      ]
    },
    {
      "cell_type": "code",
      "source": [
        "# 코드 2-7. 문자열 포매팅 대신 문자열 연결을 사용할 수도 있다\n",
        "a + ' 강사와 함께 ' + b + '를 배웁시다'"
      ],
      "metadata": {
        "colab": {
          "base_uri": "https://localhost:8080/",
          "height": 35
        },
        "id": "1qiCxgjAQjC4",
        "outputId": "17dba0d0-ff38-4325-d7ed-b67fadf5e0c8"
      },
      "execution_count": 7,
      "outputs": [
        {
          "output_type": "execute_result",
          "data": {
            "text/plain": [
              "'김판다 강사와 함께 판다스를 배웁시다'"
            ],
            "application/vnd.google.colaboratory.intrinsic+json": {
              "type": "string"
            }
          },
          "metadata": {},
          "execution_count": 7
        }
      ]
    },
    {
      "cell_type": "markdown",
      "source": [
        "#### 2.1.5. 불"
      ],
      "metadata": {
        "id": "x9y3Ir57T5RT"
      }
    },
    {
      "cell_type": "code",
      "source": [
        "# 코드 2-8. 불(bool) 자료형의 산술 연산\n",
        "True + True + False"
      ],
      "metadata": {
        "colab": {
          "base_uri": "https://localhost:8080/"
        },
        "id": "kYbhgLJUT5f2",
        "outputId": "8f36ba1e-4d97-4e3b-d777-080269fc98c0"
      },
      "execution_count": 8,
      "outputs": [
        {
          "output_type": "execute_result",
          "data": {
            "text/plain": [
              "2"
            ]
          },
          "metadata": {},
          "execution_count": 8
        }
      ]
    },
    {
      "cell_type": "code",
      "source": [
        "# 코드 2-9. 불(bool) 자료형의 논리 연산\n",
        "True & True & False # 모두 True인 것이 아니므로 False를 반환한다."
      ],
      "metadata": {
        "colab": {
          "base_uri": "https://localhost:8080/"
        },
        "id": "Wl3X6oe9VIkC",
        "outputId": "0b409011-0c56-4433-be93-b858f87a20e1"
      },
      "execution_count": 9,
      "outputs": [
        {
          "output_type": "execute_result",
          "data": {
            "text/plain": [
              "False"
            ]
          },
          "metadata": {},
          "execution_count": 9
        }
      ]
    },
    {
      "cell_type": "markdown",
      "source": [
        "#### 2.1.6. 리스트"
      ],
      "metadata": {
        "id": "XxGjuQfCczHA"
      }
    },
    {
      "cell_type": "code",
      "source": [
        "# 코드 2-10. 리스트의 생성\n",
        "[1, 2, 3]"
      ],
      "metadata": {
        "colab": {
          "base_uri": "https://localhost:8080/"
        },
        "id": "XamSa2uYcwMe",
        "outputId": "cddb9b7c-f5d4-422d-bfb1-153c8bb4ddee"
      },
      "execution_count": 10,
      "outputs": [
        {
          "output_type": "execute_result",
          "data": {
            "text/plain": [
              "[1, 2, 3]"
            ]
          },
          "metadata": {},
          "execution_count": 10
        }
      ]
    },
    {
      "cell_type": "code",
      "source": [
        "# 코드 2-11. type 함수로 자료형 확인\n",
        "type([1, 2, 3])"
      ],
      "metadata": {
        "colab": {
          "base_uri": "https://localhost:8080/"
        },
        "id": "qoUdieL2c6B6",
        "outputId": "cbb6b174-d887-4e92-9099-ab5493fbf046"
      },
      "execution_count": 11,
      "outputs": [
        {
          "output_type": "execute_result",
          "data": {
            "text/plain": [
              "list"
            ]
          },
          "metadata": {},
          "execution_count": 11
        }
      ]
    },
    {
      "cell_type": "code",
      "source": [
        "# 코드 2-12. 리스트의 연결\n",
        "[1, 2, 3] + [4, 5]"
      ],
      "metadata": {
        "colab": {
          "base_uri": "https://localhost:8080/"
        },
        "id": "tfqINhAzc-A_",
        "outputId": "1b2974ef-27d7-441b-a7cb-bfed313ad046"
      },
      "execution_count": 12,
      "outputs": [
        {
          "output_type": "execute_result",
          "data": {
            "text/plain": [
              "[1, 2, 3, 4, 5]"
            ]
          },
          "metadata": {},
          "execution_count": 12
        }
      ]
    },
    {
      "cell_type": "code",
      "source": [
        "# 코드 2-13. 리스트의 반복\n",
        "[1, 2, 3] * 2"
      ],
      "metadata": {
        "colab": {
          "base_uri": "https://localhost:8080/"
        },
        "id": "VGGNzkWQhNMw",
        "outputId": "5e502e61-561e-4fa2-8a8a-3e44b1fd7844"
      },
      "execution_count": 13,
      "outputs": [
        {
          "output_type": "execute_result",
          "data": {
            "text/plain": [
              "[1, 2, 3, 1, 2, 3]"
            ]
          },
          "metadata": {},
          "execution_count": 13
        }
      ]
    },
    {
      "cell_type": "code",
      "source": [
        "# 코드 2-14. 리스트의 인덱싱\n",
        "a = [1, 2, 3]\n",
        "a[0] # 리스트의 첫 번째 원소를 추출한다"
      ],
      "metadata": {
        "colab": {
          "base_uri": "https://localhost:8080/"
        },
        "id": "hjhnOdNSdB52",
        "outputId": "9f016f2a-ab3b-4678-cacf-3fb79c0c2baf"
      },
      "execution_count": 14,
      "outputs": [
        {
          "output_type": "execute_result",
          "data": {
            "text/plain": [
              "1"
            ]
          },
          "metadata": {},
          "execution_count": 14
        }
      ]
    },
    {
      "cell_type": "code",
      "source": [
        "# 코드 2-15. 리스트의 길이 반환\n",
        "len(a)"
      ],
      "metadata": {
        "colab": {
          "base_uri": "https://localhost:8080/"
        },
        "id": "XcfoSSFUdHZ0",
        "outputId": "b4865b18-c926-4c96-83b2-e63785254c59"
      },
      "execution_count": 15,
      "outputs": [
        {
          "output_type": "execute_result",
          "data": {
            "text/plain": [
              "3"
            ]
          },
          "metadata": {},
          "execution_count": 15
        }
      ]
    },
    {
      "cell_type": "markdown",
      "source": [
        "#### 2.1.7. 튜플"
      ],
      "metadata": {
        "id": "AphZMj96ohRs"
      }
    },
    {
      "cell_type": "code",
      "source": [
        "# 코드 2-16. 튜플의 생성\n",
        "(1, 2, 3)"
      ],
      "metadata": {
        "colab": {
          "base_uri": "https://localhost:8080/"
        },
        "id": "gcXT1MlNyhcX",
        "outputId": "3cfc3ede-1e3d-43d6-f918-f143b0bf0a86"
      },
      "execution_count": 16,
      "outputs": [
        {
          "output_type": "execute_result",
          "data": {
            "text/plain": [
              "(1, 2, 3)"
            ]
          },
          "metadata": {},
          "execution_count": 16
        }
      ]
    },
    {
      "cell_type": "code",
      "source": [
        "# 코드 2-17. type 함수로 튜플의 자료형 확인\n",
        "type((1, 2, 3))"
      ],
      "metadata": {
        "colab": {
          "base_uri": "https://localhost:8080/"
        },
        "id": "sfeHwZ9SypKi",
        "outputId": "7d4b3edb-9f24-4374-a7a2-4d8c076e487a"
      },
      "execution_count": 17,
      "outputs": [
        {
          "output_type": "execute_result",
          "data": {
            "text/plain": [
              "tuple"
            ]
          },
          "metadata": {},
          "execution_count": 17
        }
      ]
    },
    {
      "cell_type": "code",
      "source": [
        "# 코드 2-18. 튜플은 괄호를 생략할 수도 있다.\n",
        "a = 1, 2\n",
        "type(a)"
      ],
      "metadata": {
        "colab": {
          "base_uri": "https://localhost:8080/"
        },
        "id": "O4lHU2wY4bGo",
        "outputId": "40042a94-ebf7-4a32-a9c3-77e784aaad8a"
      },
      "execution_count": 18,
      "outputs": [
        {
          "output_type": "execute_result",
          "data": {
            "text/plain": [
              "tuple"
            ]
          },
          "metadata": {},
          "execution_count": 18
        }
      ]
    },
    {
      "cell_type": "code",
      "source": [
        "# 코드 2-19. 튜플을 이용해 복수의 변수 한 번에 지정하기\n",
        "b, c = 1, 2\n",
        "print(b)\n",
        "print(c)"
      ],
      "metadata": {
        "colab": {
          "base_uri": "https://localhost:8080/"
        },
        "id": "eR5LecZuyzdZ",
        "outputId": "7c59d64e-95fc-488f-bd13-57e25ca5e5b2"
      },
      "execution_count": 19,
      "outputs": [
        {
          "output_type": "stream",
          "name": "stdout",
          "text": [
            "1\n",
            "2\n"
          ]
        }
      ]
    },
    {
      "cell_type": "markdown",
      "source": [
        "#### 2.1.8. 딕셔너리"
      ],
      "metadata": {
        "id": "t2jXy-qboBXF"
      }
    },
    {
      "cell_type": "code",
      "source": [
        "# 코드 2-20. 딕셔너리 생성\n",
        "{'가': 1, '나': 2}"
      ],
      "metadata": {
        "colab": {
          "base_uri": "https://localhost:8080/"
        },
        "id": "CT3g2U1yn_kl",
        "outputId": "f3b35397-e4cb-4fd5-be96-3a1295f5fa79"
      },
      "execution_count": 20,
      "outputs": [
        {
          "output_type": "execute_result",
          "data": {
            "text/plain": [
              "{'가': 1, '나': 2}"
            ]
          },
          "metadata": {},
          "execution_count": 20
        }
      ]
    },
    {
      "cell_type": "code",
      "source": [
        "# 코드 2-21. 딕셔너리의 인덱싱\n",
        "a = {'가': 1, '나': 2}\n",
        "a['가']"
      ],
      "metadata": {
        "colab": {
          "base_uri": "https://localhost:8080/"
        },
        "id": "ai6objoT8dzo",
        "outputId": "5d4fd7b0-1976-4328-ba50-978336dd84a8"
      },
      "execution_count": 21,
      "outputs": [
        {
          "output_type": "execute_result",
          "data": {
            "text/plain": [
              "1"
            ]
          },
          "metadata": {},
          "execution_count": 21
        }
      ]
    },
    {
      "cell_type": "code",
      "source": [
        "# 코드 2-22. 딕셔너리의 원소 수정하기\n",
        "a = {'가': 1, '나': 2}\n",
        "a['가'] = 3\n",
        "a"
      ],
      "metadata": {
        "colab": {
          "base_uri": "https://localhost:8080/"
        },
        "id": "YxFIPhygA1GK",
        "outputId": "d089c37b-b765-4c54-da52-a81ad41636d0"
      },
      "execution_count": 22,
      "outputs": [
        {
          "output_type": "execute_result",
          "data": {
            "text/plain": [
              "{'가': 3, '나': 2}"
            ]
          },
          "metadata": {},
          "execution_count": 22
        }
      ]
    },
    {
      "cell_type": "code",
      "source": [
        "# 코드 2-23. 딕셔너리에 원소 추가하기\n",
        "a = {'가': 1, '나': 2}\n",
        "a['다'] = 3 # '다'는 a에 존재하지 않는 키이다.\n",
        "a"
      ],
      "metadata": {
        "colab": {
          "base_uri": "https://localhost:8080/"
        },
        "id": "_hvi2omOoLPi",
        "outputId": "91aa8c98-e162-4116-cda8-654727e189a5"
      },
      "execution_count": 23,
      "outputs": [
        {
          "output_type": "execute_result",
          "data": {
            "text/plain": [
              "{'가': 1, '나': 2, '다': 3}"
            ]
          },
          "metadata": {},
          "execution_count": 23
        }
      ]
    },
    {
      "cell_type": "markdown",
      "source": [
        "### 2.2. 제어문과 함수"
      ],
      "metadata": {
        "id": "pdwr58pIf_xz"
      }
    },
    {
      "cell_type": "markdown",
      "source": [
        "#### 2.2.1. 제어문"
      ],
      "metadata": {
        "id": "cYXQyFgVgCME"
      }
    },
    {
      "cell_type": "code",
      "source": [
        "# 코드 2-24. 반복문 수행하기\n",
        "for i in ['a', 1, 3.1]:\n",
        "    print(type(i))"
      ],
      "metadata": {
        "colab": {
          "base_uri": "https://localhost:8080/"
        },
        "id": "cluyA28tgFd5",
        "outputId": "6aa08044-1238-48ab-c537-486faf9b00f6"
      },
      "execution_count": 24,
      "outputs": [
        {
          "output_type": "stream",
          "name": "stdout",
          "text": [
            "<class 'str'>\n",
            "<class 'int'>\n",
            "<class 'float'>\n"
          ]
        }
      ]
    },
    {
      "cell_type": "code",
      "source": [
        "# 코드 2-25. 코드 2-24의 반복문은 다음 코드와 같다\n",
        "print(type('a'))\n",
        "print(type(1))\n",
        "print(type(3.1))"
      ],
      "metadata": {
        "colab": {
          "base_uri": "https://localhost:8080/"
        },
        "id": "HhD4odZLmf6z",
        "outputId": "22e31d6b-82e1-4400-f810-d9bada565c21"
      },
      "execution_count": 25,
      "outputs": [
        {
          "output_type": "stream",
          "name": "stdout",
          "text": [
            "<class 'str'>\n",
            "<class 'int'>\n",
            "<class 'float'>\n"
          ]
        }
      ]
    },
    {
      "cell_type": "markdown",
      "source": [
        "#### 2.2.2. 함수"
      ],
      "metadata": {
        "id": "JLRyjSnRrSh5"
      }
    },
    {
      "cell_type": "code",
      "source": [
        "# 코드 2-26. 함수 정의하기\n",
        "def add_one(x):\n",
        "    return x + 1\n",
        "\n",
        "# 생성한 add_one 함수를 호출해 인수 2를 입력하기\n",
        "add_one(2)"
      ],
      "metadata": {
        "colab": {
          "base_uri": "https://localhost:8080/"
        },
        "id": "h4YbbhP7rSwk",
        "outputId": "5a3bf0bf-8612-49ff-fffd-18931e780218"
      },
      "execution_count": 26,
      "outputs": [
        {
          "output_type": "execute_result",
          "data": {
            "text/plain": [
              "3"
            ]
          },
          "metadata": {},
          "execution_count": 26
        }
      ]
    },
    {
      "cell_type": "markdown",
      "source": [
        "### 2.3. 클래스와 객체, 라이브러리"
      ],
      "metadata": {
        "id": "mm_-pTASdELE"
      }
    },
    {
      "cell_type": "markdown",
      "source": [
        "#### 2.3.1. 클래스와 객체"
      ],
      "metadata": {
        "id": "o7uZ1sckdI27"
      }
    },
    {
      "cell_type": "markdown",
      "source": [
        "#### 2.3.2. 라이브러리"
      ],
      "metadata": {
        "id": "Ojbtxad4dLnF"
      }
    },
    {
      "cell_type": "code",
      "source": [
        "# 코드 2-27. 판다스 라이브러리 불러오기\n",
        "import pandas as pd"
      ],
      "metadata": {
        "id": "hY306BQrdgfx"
      },
      "execution_count": 27,
      "outputs": []
    },
    {
      "cell_type": "code",
      "source": [
        "# 코드 2-28. 판다스 라이브러리의 버전 확인하기\n",
        "pd.__version__"
      ],
      "metadata": {
        "colab": {
          "base_uri": "https://localhost:8080/",
          "height": 35
        },
        "id": "W0TbQQw2XNHl",
        "outputId": "228aca70-4fdb-41fc-8705-4f7d89fb5063"
      },
      "execution_count": 28,
      "outputs": [
        {
          "output_type": "execute_result",
          "data": {
            "text/plain": [
              "'2.0.3'"
            ],
            "application/vnd.google.colaboratory.intrinsic+json": {
              "type": "string"
            }
          },
          "metadata": {},
          "execution_count": 28
        }
      ]
    },
    {
      "cell_type": "markdown",
      "source": [
        "#### 2.3.3. 넘파이 라이브러리"
      ],
      "metadata": {
        "id": "_Jg9UGj_dPmy"
      }
    },
    {
      "cell_type": "code",
      "source": [
        "# 코드 2-29. 넘파이 라이브러리 불러오기\n",
        "import numpy as np"
      ],
      "metadata": {
        "id": "bZ2QmiodrxdE"
      },
      "execution_count": 29,
      "outputs": []
    },
    {
      "cell_type": "code",
      "source": [
        "# 코드 2-30. 넘파이 라이브러리의 버전 확인하기\n",
        "np.__version__"
      ],
      "metadata": {
        "colab": {
          "base_uri": "https://localhost:8080/",
          "height": 35
        },
        "id": "DjRyiWbaZCiS",
        "outputId": "8c0a7eb9-dde5-479a-c21e-d0ec302adcac"
      },
      "execution_count": 30,
      "outputs": [
        {
          "output_type": "execute_result",
          "data": {
            "text/plain": [
              "'1.25.2'"
            ],
            "application/vnd.google.colaboratory.intrinsic+json": {
              "type": "string"
            }
          },
          "metadata": {},
          "execution_count": 30
        }
      ]
    },
    {
      "cell_type": "code",
      "source": [
        "# 코드 2-31. 넘파이의 어레이 클래스 생성하기\n",
        "a = np.array([[1, 2, 3], [4, 5, 6]])\n",
        "a"
      ],
      "metadata": {
        "colab": {
          "base_uri": "https://localhost:8080/"
        },
        "id": "w3Nx3q-Ed7HR",
        "outputId": "d1271941-11fc-437a-b5c0-237bd89de138"
      },
      "execution_count": 31,
      "outputs": [
        {
          "output_type": "execute_result",
          "data": {
            "text/plain": [
              "array([[1, 2, 3],\n",
              "       [4, 5, 6]])"
            ]
          },
          "metadata": {},
          "execution_count": 31
        }
      ]
    },
    {
      "cell_type": "code",
      "source": [
        "# 코드 2-32. 어레이의 벡터화 연산\n",
        "a + 1"
      ],
      "metadata": {
        "colab": {
          "base_uri": "https://localhost:8080/"
        },
        "id": "mCgbawK_eBeR",
        "outputId": "3b2e14fc-c2a6-4299-bedc-e4ed30b1de08"
      },
      "execution_count": 32,
      "outputs": [
        {
          "output_type": "execute_result",
          "data": {
            "text/plain": [
              "array([[2, 3, 4],\n",
              "       [5, 6, 7]])"
            ]
          },
          "metadata": {},
          "execution_count": 32
        }
      ]
    },
    {
      "cell_type": "code",
      "source": [
        "# 코드 2-33. 어레이의 벡터화 연산 (비교 연산)\n",
        "a > 2"
      ],
      "metadata": {
        "colab": {
          "base_uri": "https://localhost:8080/"
        },
        "id": "aKC_s2_H3lNV",
        "outputId": "091d609e-bb6c-46fb-e64d-f5a7d9a0e672"
      },
      "execution_count": 33,
      "outputs": [
        {
          "output_type": "execute_result",
          "data": {
            "text/plain": [
              "array([[False, False,  True],\n",
              "       [ True,  True,  True]])"
            ]
          },
          "metadata": {},
          "execution_count": 33
        }
      ]
    }
  ]
}